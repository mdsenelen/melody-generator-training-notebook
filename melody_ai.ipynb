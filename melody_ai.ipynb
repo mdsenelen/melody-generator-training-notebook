{
 "cells": [
  {
   "cell_type": "code",
   "execution_count": null,
   "metadata": {},
   "outputs": [],
   "source": [
    "# %% Imports and config\n",
    "from pathlib import Path\n",
    "import yaml\n",
    "from src.rl.train import train_vfo_value, train_inverse, train_ppo\n",
    "from src.app.api import generate\n",
    "from src.utils.endpoints import generate_accompaniment\n",
    "from src.utils.mode_router import route_generation\n",
    "with open('configs/option_a.yaml') as f:\n",
    "    cfg = yaml.safe_load(f)\n",
    "print('config loaded')\n"
   ]
  },
  {
   "cell_type": "code",
   "execution_count": null,
   "metadata": {},
   "outputs": [],
   "source": [
    "# %% Generate dummy vocal and accompaniment\n",
    "import wave, struct\n",
    "vocal_path = 'dummy_vocal.wav'\n",
    "with wave.open(vocal_path, 'wb') as w:\n",
    "    w.setnchannels(1); w.setsampwidth(2); w.setframerate(8000)\n",
    "    w.writeframes(struct.pack('<'+'h'*8000, *([0]*8000)))\n",
    "accomp_path = generate_accompaniment(vocal_path)\n",
    "print('accompaniment at', accomp_path)\n"
   ]
  },
  {
   "cell_type": "code",
   "execution_count": null,
   "metadata": {},
   "outputs": [],
   "source": [
    "# %% VFO training\n",
    "exp_med, bg_med = train_vfo_value()\n",
    "print('expert median', exp_med, 'background median', bg_med)\n"
   ]
  },
  {
   "cell_type": "code",
   "execution_count": null,
   "metadata": {},
   "outputs": [],
   "source": [
    "# %% Inverse model test\n",
    "top1 = train_inverse()\n",
    "print('inverse top1', top1)\n"
   ]
  },
  {
   "cell_type": "code",
   "execution_count": null,
   "metadata": {},
   "outputs": [],
   "source": [
    "# %% PPO placeholder\n",
    "stats = train_ppo()\n",
    "print(stats)\n"
   ]
  },
  {
   "cell_type": "code",
   "execution_count": null,
   "metadata": {},
   "outputs": [],
   "source": [
    "# %% Mode router demo\n",
    "mode, kwargs = route_generation(False)\n",
    "print('route', mode, kwargs)\n"
   ]
  },
  {
   "cell_type": "code",
   "execution_count": null,
   "metadata": {},
   "outputs": [],
   "source": [
    "# %% API demo\n",
    "print('full song path', generate())\n"
   ]
  },
  {
   "cell_type": "code",
   "execution_count": null,
   "metadata": {},
   "outputs": [],
   "source": [
    "# %% Acceptance checks\n",
    "print('All placeholder checks executed.')\n"
   ]
  }
 ],
 "metadata": {
  "kernelspec": {
   "display_name": "Python 3",
   "language": "python",
   "name": "python3"
  },
  "language_info": {
   "name": "python",
   "version": "3.10"
  }
 },
 "nbformat": 4,
 "nbformat_minor": 2
}
